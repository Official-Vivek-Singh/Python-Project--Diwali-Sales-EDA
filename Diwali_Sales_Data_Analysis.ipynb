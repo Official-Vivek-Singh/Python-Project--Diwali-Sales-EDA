{
 "cells": [
  {
   "cell_type": "markdown",
   "id": "21f349ac-042d-471c-8dc2-45b2bdfa455d",
   "metadata": {},
   "source": [
    "# Diwali_Sales_Data_Analysis Project\n",
    "  "
   ]
  },
  {
   "cell_type": "markdown",
   "id": "4642d3ba-1986-4747-8708-2829d14bc376",
   "metadata": {},
   "source": [
    "By : Vivek Kr Singh\n",
    "https://www.linkedin.com/in/vivekvishwas/"
   ]
  },
  {
   "cell_type": "markdown",
   "id": "0182983e-5f42-448f-b3a2-3df6a1797b0c",
   "metadata": {},
   "source": [
    "# Importing Library"
   ]
  },
  {
   "cell_type": "code",
   "execution_count": 2,
   "id": "2fb6ec64-1af8-4437-8cdd-c8622aceff85",
   "metadata": {},
   "outputs": [
    {
     "name": "stdout",
     "output_type": "stream",
     "text": [
      "Library Loaded !!!\n"
     ]
    }
   ],
   "source": [
    "\n",
    "import pandas as pd\n",
    "import numpy as np\n",
    "import matplotlib.pyplot as plt\n",
    "import seaborn as sns\n",
    "print('Library Loaded !!!')"
   ]
  },
  {
   "cell_type": "markdown",
   "id": "470d587f-dfbe-4a5f-8018-f07dadad1a50",
   "metadata": {},
   "source": [
    "### Import dataset"
   ]
  },
  {
   "cell_type": "code",
   "execution_count": 3,
   "id": "dbe42ee6-b962-4744-81f5-84c9012613a6",
   "metadata": {},
   "outputs": [
    {
     "name": "stdout",
     "output_type": "stream",
     "text": [
      "Data loaded successfully !!\n"
     ]
    }
   ],
   "source": [
    "# reading the CSV Data \n",
    "df_diwali_sales = pd.read_csv('D:\\Vivek_Stuff\\Learning Stuff\\Python_Work\\Python Project\\Diwali_Sales_Data.csv', encoding='unicode_escape')\n",
    "print(\"Data loaded successfully !!\")"
   ]
  },
  {
   "cell_type": "markdown",
   "id": "db141295-f4bb-4e0d-9bba-fc5c00ff6502",
   "metadata": {},
   "source": [
    "### show first 5 rows "
   ]
  },
  {
   "cell_type": "code",
   "execution_count": 4,
   "id": "3134e33f-1458-47e2-84ed-11caf800a68c",
   "metadata": {},
   "outputs": [
    {
     "data": {
      "text/html": [
       "<div>\n",
       "<style scoped>\n",
       "    .dataframe tbody tr th:only-of-type {\n",
       "        vertical-align: middle;\n",
       "    }\n",
       "\n",
       "    .dataframe tbody tr th {\n",
       "        vertical-align: top;\n",
       "    }\n",
       "\n",
       "    .dataframe thead th {\n",
       "        text-align: right;\n",
       "    }\n",
       "</style>\n",
       "<table border=\"1\" class=\"dataframe\">\n",
       "  <thead>\n",
       "    <tr style=\"text-align: right;\">\n",
       "      <th></th>\n",
       "      <th>User_ID</th>\n",
       "      <th>Cust_name</th>\n",
       "      <th>Product_ID</th>\n",
       "      <th>Gender</th>\n",
       "      <th>Age Group</th>\n",
       "      <th>Age</th>\n",
       "      <th>Marital_Status</th>\n",
       "      <th>State</th>\n",
       "      <th>Zone</th>\n",
       "      <th>Occupation</th>\n",
       "      <th>Product_Category</th>\n",
       "      <th>Orders</th>\n",
       "      <th>Amount</th>\n",
       "      <th>Status</th>\n",
       "      <th>unnamed1</th>\n",
       "    </tr>\n",
       "  </thead>\n",
       "  <tbody>\n",
       "    <tr>\n",
       "      <th>0</th>\n",
       "      <td>1002903</td>\n",
       "      <td>Sanskriti</td>\n",
       "      <td>P00125942</td>\n",
       "      <td>F</td>\n",
       "      <td>26-35</td>\n",
       "      <td>28</td>\n",
       "      <td>0</td>\n",
       "      <td>Maharashtra</td>\n",
       "      <td>Western</td>\n",
       "      <td>Healthcare</td>\n",
       "      <td>Auto</td>\n",
       "      <td>1</td>\n",
       "      <td>23952.0</td>\n",
       "      <td>NaN</td>\n",
       "      <td>NaN</td>\n",
       "    </tr>\n",
       "    <tr>\n",
       "      <th>1</th>\n",
       "      <td>1000732</td>\n",
       "      <td>Kartik</td>\n",
       "      <td>P00110942</td>\n",
       "      <td>F</td>\n",
       "      <td>26-35</td>\n",
       "      <td>35</td>\n",
       "      <td>1</td>\n",
       "      <td>Andhra Pradesh</td>\n",
       "      <td>Southern</td>\n",
       "      <td>Govt</td>\n",
       "      <td>Auto</td>\n",
       "      <td>3</td>\n",
       "      <td>23934.0</td>\n",
       "      <td>NaN</td>\n",
       "      <td>NaN</td>\n",
       "    </tr>\n",
       "    <tr>\n",
       "      <th>2</th>\n",
       "      <td>1001990</td>\n",
       "      <td>Bindu</td>\n",
       "      <td>P00118542</td>\n",
       "      <td>F</td>\n",
       "      <td>26-35</td>\n",
       "      <td>35</td>\n",
       "      <td>1</td>\n",
       "      <td>Uttar Pradesh</td>\n",
       "      <td>Central</td>\n",
       "      <td>Automobile</td>\n",
       "      <td>Auto</td>\n",
       "      <td>3</td>\n",
       "      <td>23924.0</td>\n",
       "      <td>NaN</td>\n",
       "      <td>NaN</td>\n",
       "    </tr>\n",
       "    <tr>\n",
       "      <th>3</th>\n",
       "      <td>1001425</td>\n",
       "      <td>Sudevi</td>\n",
       "      <td>P00237842</td>\n",
       "      <td>M</td>\n",
       "      <td>0-17</td>\n",
       "      <td>16</td>\n",
       "      <td>0</td>\n",
       "      <td>Karnataka</td>\n",
       "      <td>Southern</td>\n",
       "      <td>Construction</td>\n",
       "      <td>Auto</td>\n",
       "      <td>2</td>\n",
       "      <td>23912.0</td>\n",
       "      <td>NaN</td>\n",
       "      <td>NaN</td>\n",
       "    </tr>\n",
       "    <tr>\n",
       "      <th>4</th>\n",
       "      <td>1000588</td>\n",
       "      <td>Joni</td>\n",
       "      <td>P00057942</td>\n",
       "      <td>M</td>\n",
       "      <td>26-35</td>\n",
       "      <td>28</td>\n",
       "      <td>1</td>\n",
       "      <td>Gujarat</td>\n",
       "      <td>Western</td>\n",
       "      <td>Food Processing</td>\n",
       "      <td>Auto</td>\n",
       "      <td>2</td>\n",
       "      <td>23877.0</td>\n",
       "      <td>NaN</td>\n",
       "      <td>NaN</td>\n",
       "    </tr>\n",
       "  </tbody>\n",
       "</table>\n",
       "</div>"
      ],
      "text/plain": [
       "   User_ID  Cust_name Product_ID Gender Age Group  Age  Marital_Status  \\\n",
       "0  1002903  Sanskriti  P00125942      F     26-35   28               0   \n",
       "1  1000732     Kartik  P00110942      F     26-35   35               1   \n",
       "2  1001990      Bindu  P00118542      F     26-35   35               1   \n",
       "3  1001425     Sudevi  P00237842      M      0-17   16               0   \n",
       "4  1000588       Joni  P00057942      M     26-35   28               1   \n",
       "\n",
       "            State      Zone       Occupation Product_Category  Orders  \\\n",
       "0     Maharashtra   Western       Healthcare             Auto       1   \n",
       "1  Andhra Pradesh  Southern             Govt             Auto       3   \n",
       "2   Uttar Pradesh   Central       Automobile             Auto       3   \n",
       "3       Karnataka  Southern     Construction             Auto       2   \n",
       "4         Gujarat   Western  Food Processing             Auto       2   \n",
       "\n",
       "    Amount  Status  unnamed1  \n",
       "0  23952.0     NaN       NaN  \n",
       "1  23934.0     NaN       NaN  \n",
       "2  23924.0     NaN       NaN  \n",
       "3  23912.0     NaN       NaN  \n",
       "4  23877.0     NaN       NaN  "
      ]
     },
     "execution_count": 4,
     "metadata": {},
     "output_type": "execute_result"
    }
   ],
   "source": [
    "df_diwali_sales.head()\n",
    "# pandas head() method helps to extract the forst 5 rows from dataset. by default it returns 5 rows, But you can pass the required no. of rows in paranthesis "
   ]
  },
  {
   "cell_type": "code",
   "execution_count": 5,
   "id": "82613e3c-8e9b-479b-a5c9-5e2cda6ceab1",
   "metadata": {},
   "outputs": [],
   "source": [
    "# Show last 5 rows "
   ]
  },
  {
   "cell_type": "code",
   "execution_count": 6,
   "id": "de157309-18e7-40a2-a700-08b6c19df2db",
   "metadata": {},
   "outputs": [
    {
     "data": {
      "text/html": [
       "<div>\n",
       "<style scoped>\n",
       "    .dataframe tbody tr th:only-of-type {\n",
       "        vertical-align: middle;\n",
       "    }\n",
       "\n",
       "    .dataframe tbody tr th {\n",
       "        vertical-align: top;\n",
       "    }\n",
       "\n",
       "    .dataframe thead th {\n",
       "        text-align: right;\n",
       "    }\n",
       "</style>\n",
       "<table border=\"1\" class=\"dataframe\">\n",
       "  <thead>\n",
       "    <tr style=\"text-align: right;\">\n",
       "      <th></th>\n",
       "      <th>User_ID</th>\n",
       "      <th>Cust_name</th>\n",
       "      <th>Product_ID</th>\n",
       "      <th>Gender</th>\n",
       "      <th>Age Group</th>\n",
       "      <th>Age</th>\n",
       "      <th>Marital_Status</th>\n",
       "      <th>State</th>\n",
       "      <th>Zone</th>\n",
       "      <th>Occupation</th>\n",
       "      <th>Product_Category</th>\n",
       "      <th>Orders</th>\n",
       "      <th>Amount</th>\n",
       "      <th>Status</th>\n",
       "      <th>unnamed1</th>\n",
       "    </tr>\n",
       "  </thead>\n",
       "  <tbody>\n",
       "    <tr>\n",
       "      <th>11246</th>\n",
       "      <td>1000695</td>\n",
       "      <td>Manning</td>\n",
       "      <td>P00296942</td>\n",
       "      <td>M</td>\n",
       "      <td>18-25</td>\n",
       "      <td>19</td>\n",
       "      <td>1</td>\n",
       "      <td>Maharashtra</td>\n",
       "      <td>Western</td>\n",
       "      <td>Chemical</td>\n",
       "      <td>Office</td>\n",
       "      <td>4</td>\n",
       "      <td>370.0</td>\n",
       "      <td>NaN</td>\n",
       "      <td>NaN</td>\n",
       "    </tr>\n",
       "    <tr>\n",
       "      <th>11247</th>\n",
       "      <td>1004089</td>\n",
       "      <td>Reichenbach</td>\n",
       "      <td>P00171342</td>\n",
       "      <td>M</td>\n",
       "      <td>26-35</td>\n",
       "      <td>33</td>\n",
       "      <td>0</td>\n",
       "      <td>Haryana</td>\n",
       "      <td>Northern</td>\n",
       "      <td>Healthcare</td>\n",
       "      <td>Veterinary</td>\n",
       "      <td>3</td>\n",
       "      <td>367.0</td>\n",
       "      <td>NaN</td>\n",
       "      <td>NaN</td>\n",
       "    </tr>\n",
       "    <tr>\n",
       "      <th>11248</th>\n",
       "      <td>1001209</td>\n",
       "      <td>Oshin</td>\n",
       "      <td>P00201342</td>\n",
       "      <td>F</td>\n",
       "      <td>36-45</td>\n",
       "      <td>40</td>\n",
       "      <td>0</td>\n",
       "      <td>Madhya Pradesh</td>\n",
       "      <td>Central</td>\n",
       "      <td>Textile</td>\n",
       "      <td>Office</td>\n",
       "      <td>4</td>\n",
       "      <td>213.0</td>\n",
       "      <td>NaN</td>\n",
       "      <td>NaN</td>\n",
       "    </tr>\n",
       "    <tr>\n",
       "      <th>11249</th>\n",
       "      <td>1004023</td>\n",
       "      <td>Noonan</td>\n",
       "      <td>P00059442</td>\n",
       "      <td>M</td>\n",
       "      <td>36-45</td>\n",
       "      <td>37</td>\n",
       "      <td>0</td>\n",
       "      <td>Karnataka</td>\n",
       "      <td>Southern</td>\n",
       "      <td>Agriculture</td>\n",
       "      <td>Office</td>\n",
       "      <td>3</td>\n",
       "      <td>206.0</td>\n",
       "      <td>NaN</td>\n",
       "      <td>NaN</td>\n",
       "    </tr>\n",
       "    <tr>\n",
       "      <th>11250</th>\n",
       "      <td>1002744</td>\n",
       "      <td>Brumley</td>\n",
       "      <td>P00281742</td>\n",
       "      <td>F</td>\n",
       "      <td>18-25</td>\n",
       "      <td>19</td>\n",
       "      <td>0</td>\n",
       "      <td>Maharashtra</td>\n",
       "      <td>Western</td>\n",
       "      <td>Healthcare</td>\n",
       "      <td>Office</td>\n",
       "      <td>3</td>\n",
       "      <td>188.0</td>\n",
       "      <td>NaN</td>\n",
       "      <td>NaN</td>\n",
       "    </tr>\n",
       "  </tbody>\n",
       "</table>\n",
       "</div>"
      ],
      "text/plain": [
       "       User_ID    Cust_name Product_ID Gender Age Group  Age  Marital_Status  \\\n",
       "11246  1000695      Manning  P00296942      M     18-25   19               1   \n",
       "11247  1004089  Reichenbach  P00171342      M     26-35   33               0   \n",
       "11248  1001209        Oshin  P00201342      F     36-45   40               0   \n",
       "11249  1004023       Noonan  P00059442      M     36-45   37               0   \n",
       "11250  1002744      Brumley  P00281742      F     18-25   19               0   \n",
       "\n",
       "                State      Zone   Occupation Product_Category  Orders  Amount  \\\n",
       "11246     Maharashtra   Western     Chemical           Office       4   370.0   \n",
       "11247         Haryana  Northern   Healthcare       Veterinary       3   367.0   \n",
       "11248  Madhya Pradesh   Central      Textile           Office       4   213.0   \n",
       "11249       Karnataka  Southern  Agriculture           Office       3   206.0   \n",
       "11250     Maharashtra   Western   Healthcare           Office       3   188.0   \n",
       "\n",
       "       Status  unnamed1  \n",
       "11246     NaN       NaN  \n",
       "11247     NaN       NaN  \n",
       "11248     NaN       NaN  \n",
       "11249     NaN       NaN  \n",
       "11250     NaN       NaN  "
      ]
     },
     "execution_count": 6,
     "metadata": {},
     "output_type": "execute_result"
    }
   ],
   "source": [
    "df_diwali_sales.tail()\n",
    "\n",
    "# pandas tail() method helps to extract the last 5 rows from dataset. by default it returns 5 rows, But you can pass the required no. of rows in paranthesis "
   ]
  },
  {
   "cell_type": "markdown",
   "id": "d561db3b-5a23-4643-85b5-315d76e7d40a",
   "metadata": {},
   "source": [
    "### show the data Size\n",
    "#total Rows & Column"
   ]
  },
  {
   "cell_type": "code",
   "execution_count": 7,
   "id": "8cb04f8a-e236-4de1-a67e-2b36b61c1f78",
   "metadata": {},
   "outputs": [
    {
     "data": {
      "text/plain": [
       "(11251, 15)"
      ]
     },
     "execution_count": 7,
     "metadata": {},
     "output_type": "execute_result"
    }
   ],
   "source": [
    "df_diwali_sales.shape\n",
    "# shape is an attribte of pandas, it rerurnt he size of your dataste"
   ]
  },
  {
   "cell_type": "raw",
   "id": "265d6d73-9e21-4b34-8f5f-cbce43e176e8",
   "metadata": {},
   "source": [
    "We have 11251 rows and 15 column"
   ]
  },
  {
   "cell_type": "markdown",
   "id": "625885d6-5739-476f-99de-6d864efcc934",
   "metadata": {},
   "source": [
    "### Show complete data set information"
   ]
  },
  {
   "cell_type": "code",
   "execution_count": 8,
   "id": "967efd94-5d7f-4f92-a2fc-488835b4e9a2",
   "metadata": {},
   "outputs": [
    {
     "name": "stdout",
     "output_type": "stream",
     "text": [
      "<class 'pandas.core.frame.DataFrame'>\n",
      "RangeIndex: 11251 entries, 0 to 11250\n",
      "Data columns (total 15 columns):\n",
      " #   Column            Non-Null Count  Dtype  \n",
      "---  ------            --------------  -----  \n",
      " 0   User_ID           11251 non-null  int64  \n",
      " 1   Cust_name         11251 non-null  object \n",
      " 2   Product_ID        11251 non-null  object \n",
      " 3   Gender            11251 non-null  object \n",
      " 4   Age Group         11251 non-null  object \n",
      " 5   Age               11251 non-null  int64  \n",
      " 6   Marital_Status    11251 non-null  int64  \n",
      " 7   State             11251 non-null  object \n",
      " 8   Zone              11251 non-null  object \n",
      " 9   Occupation        11251 non-null  object \n",
      " 10  Product_Category  11251 non-null  object \n",
      " 11  Orders            11251 non-null  int64  \n",
      " 12  Amount            11239 non-null  float64\n",
      " 13  Status            0 non-null      float64\n",
      " 14  unnamed1          0 non-null      float64\n",
      "dtypes: float64(3), int64(4), object(8)\n",
      "memory usage: 1.3+ MB\n"
     ]
    }
   ],
   "source": [
    "df_diwali_sales.info()\n",
    "# info() method rertuns all the basic and required information of your data,\n",
    "# Like total Rows & Column, Column Wise Datatyoe, COlumn wise Total Null cell And Total Column "
   ]
  },
  {
   "cell_type": "raw",
   "id": "2650cb28-f30f-44a9-b718-429471464484",
   "metadata": {},
   "source": [
    "So you can see in above o/p that we have 2 column and there is no any value , so we should delete that column form our datasset\n",
    "let's do ..."
   ]
  },
  {
   "cell_type": "markdown",
   "id": "500628ab-fbdc-4c4a-bc82-a7f015188486",
   "metadata": {},
   "source": [
    "### #drop Column"
   ]
  },
  {
   "cell_type": "code",
   "execution_count": 9,
   "id": "6bf6cc0c-ab23-44cb-832a-127048ae4ce9",
   "metadata": {},
   "outputs": [
    {
     "name": "stdout",
     "output_type": "stream",
     "text": [
      " Your column has been deletere form DataFrame\n"
     ]
    }
   ],
   "source": [
    "#drop Column\n",
    "df_diwali_sales.drop(['Status', 'unnamed1'], axis=1, inplace=True)\n",
    "print(\" Your column has been deletere form DataFrame\" )\n",
    "# So drop() is use to drop the rows and column from your dataframe\n",
    "# axis =1 used for delete the Column\n",
    "# axis = 0 used to delete the rows \n",
    "# inplace = true is used to make the permanent change in tour dataframe "
   ]
  },
  {
   "cell_type": "raw",
   "id": "70809c8c-df04-4b35-b33d-b8f0195930db",
   "metadata": {},
   "source": [
    "so as we delete the 2 unwanted column , let's see the DataFrame information again."
   ]
  },
  {
   "cell_type": "code",
   "execution_count": 10,
   "id": "6b818df9-224c-40b4-9906-0ef56c7e11db",
   "metadata": {},
   "outputs": [
    {
     "name": "stdout",
     "output_type": "stream",
     "text": [
      "<class 'pandas.core.frame.DataFrame'>\n",
      "RangeIndex: 11251 entries, 0 to 11250\n",
      "Data columns (total 13 columns):\n",
      " #   Column            Non-Null Count  Dtype  \n",
      "---  ------            --------------  -----  \n",
      " 0   User_ID           11251 non-null  int64  \n",
      " 1   Cust_name         11251 non-null  object \n",
      " 2   Product_ID        11251 non-null  object \n",
      " 3   Gender            11251 non-null  object \n",
      " 4   Age Group         11251 non-null  object \n",
      " 5   Age               11251 non-null  int64  \n",
      " 6   Marital_Status    11251 non-null  int64  \n",
      " 7   State             11251 non-null  object \n",
      " 8   Zone              11251 non-null  object \n",
      " 9   Occupation        11251 non-null  object \n",
      " 10  Product_Category  11251 non-null  object \n",
      " 11  Orders            11251 non-null  int64  \n",
      " 12  Amount            11239 non-null  float64\n",
      "dtypes: float64(1), int64(4), object(8)\n",
      "memory usage: 1.1+ MB\n"
     ]
    }
   ],
   "source": [
    "df_diwali_sales.info()"
   ]
  },
  {
   "cell_type": "markdown",
   "id": "e9f8dffb-0aa6-4f63-a824-4d22f2a69062",
   "metadata": {},
   "source": [
    "### Check Missing Values in Dataset"
   ]
  },
  {
   "cell_type": "code",
   "execution_count": 11,
   "id": "053d54ce-b41c-47ee-9671-5552aa0422d5",
   "metadata": {},
   "outputs": [
    {
     "data": {
      "text/html": [
       "<div>\n",
       "<style scoped>\n",
       "    .dataframe tbody tr th:only-of-type {\n",
       "        vertical-align: middle;\n",
       "    }\n",
       "\n",
       "    .dataframe tbody tr th {\n",
       "        vertical-align: top;\n",
       "    }\n",
       "\n",
       "    .dataframe thead th {\n",
       "        text-align: right;\n",
       "    }\n",
       "</style>\n",
       "<table border=\"1\" class=\"dataframe\">\n",
       "  <thead>\n",
       "    <tr style=\"text-align: right;\">\n",
       "      <th></th>\n",
       "      <th>User_ID</th>\n",
       "      <th>Cust_name</th>\n",
       "      <th>Product_ID</th>\n",
       "      <th>Gender</th>\n",
       "      <th>Age Group</th>\n",
       "      <th>Age</th>\n",
       "      <th>Marital_Status</th>\n",
       "      <th>State</th>\n",
       "      <th>Zone</th>\n",
       "      <th>Occupation</th>\n",
       "      <th>Product_Category</th>\n",
       "      <th>Orders</th>\n",
       "      <th>Amount</th>\n",
       "    </tr>\n",
       "  </thead>\n",
       "  <tbody>\n",
       "    <tr>\n",
       "      <th>0</th>\n",
       "      <td>False</td>\n",
       "      <td>False</td>\n",
       "      <td>False</td>\n",
       "      <td>False</td>\n",
       "      <td>False</td>\n",
       "      <td>False</td>\n",
       "      <td>False</td>\n",
       "      <td>False</td>\n",
       "      <td>False</td>\n",
       "      <td>False</td>\n",
       "      <td>False</td>\n",
       "      <td>False</td>\n",
       "      <td>False</td>\n",
       "    </tr>\n",
       "    <tr>\n",
       "      <th>1</th>\n",
       "      <td>False</td>\n",
       "      <td>False</td>\n",
       "      <td>False</td>\n",
       "      <td>False</td>\n",
       "      <td>False</td>\n",
       "      <td>False</td>\n",
       "      <td>False</td>\n",
       "      <td>False</td>\n",
       "      <td>False</td>\n",
       "      <td>False</td>\n",
       "      <td>False</td>\n",
       "      <td>False</td>\n",
       "      <td>False</td>\n",
       "    </tr>\n",
       "    <tr>\n",
       "      <th>2</th>\n",
       "      <td>False</td>\n",
       "      <td>False</td>\n",
       "      <td>False</td>\n",
       "      <td>False</td>\n",
       "      <td>False</td>\n",
       "      <td>False</td>\n",
       "      <td>False</td>\n",
       "      <td>False</td>\n",
       "      <td>False</td>\n",
       "      <td>False</td>\n",
       "      <td>False</td>\n",
       "      <td>False</td>\n",
       "      <td>False</td>\n",
       "    </tr>\n",
       "    <tr>\n",
       "      <th>3</th>\n",
       "      <td>False</td>\n",
       "      <td>False</td>\n",
       "      <td>False</td>\n",
       "      <td>False</td>\n",
       "      <td>False</td>\n",
       "      <td>False</td>\n",
       "      <td>False</td>\n",
       "      <td>False</td>\n",
       "      <td>False</td>\n",
       "      <td>False</td>\n",
       "      <td>False</td>\n",
       "      <td>False</td>\n",
       "      <td>False</td>\n",
       "    </tr>\n",
       "    <tr>\n",
       "      <th>4</th>\n",
       "      <td>False</td>\n",
       "      <td>False</td>\n",
       "      <td>False</td>\n",
       "      <td>False</td>\n",
       "      <td>False</td>\n",
       "      <td>False</td>\n",
       "      <td>False</td>\n",
       "      <td>False</td>\n",
       "      <td>False</td>\n",
       "      <td>False</td>\n",
       "      <td>False</td>\n",
       "      <td>False</td>\n",
       "      <td>False</td>\n",
       "    </tr>\n",
       "    <tr>\n",
       "      <th>...</th>\n",
       "      <td>...</td>\n",
       "      <td>...</td>\n",
       "      <td>...</td>\n",
       "      <td>...</td>\n",
       "      <td>...</td>\n",
       "      <td>...</td>\n",
       "      <td>...</td>\n",
       "      <td>...</td>\n",
       "      <td>...</td>\n",
       "      <td>...</td>\n",
       "      <td>...</td>\n",
       "      <td>...</td>\n",
       "      <td>...</td>\n",
       "    </tr>\n",
       "    <tr>\n",
       "      <th>11246</th>\n",
       "      <td>False</td>\n",
       "      <td>False</td>\n",
       "      <td>False</td>\n",
       "      <td>False</td>\n",
       "      <td>False</td>\n",
       "      <td>False</td>\n",
       "      <td>False</td>\n",
       "      <td>False</td>\n",
       "      <td>False</td>\n",
       "      <td>False</td>\n",
       "      <td>False</td>\n",
       "      <td>False</td>\n",
       "      <td>False</td>\n",
       "    </tr>\n",
       "    <tr>\n",
       "      <th>11247</th>\n",
       "      <td>False</td>\n",
       "      <td>False</td>\n",
       "      <td>False</td>\n",
       "      <td>False</td>\n",
       "      <td>False</td>\n",
       "      <td>False</td>\n",
       "      <td>False</td>\n",
       "      <td>False</td>\n",
       "      <td>False</td>\n",
       "      <td>False</td>\n",
       "      <td>False</td>\n",
       "      <td>False</td>\n",
       "      <td>False</td>\n",
       "    </tr>\n",
       "    <tr>\n",
       "      <th>11248</th>\n",
       "      <td>False</td>\n",
       "      <td>False</td>\n",
       "      <td>False</td>\n",
       "      <td>False</td>\n",
       "      <td>False</td>\n",
       "      <td>False</td>\n",
       "      <td>False</td>\n",
       "      <td>False</td>\n",
       "      <td>False</td>\n",
       "      <td>False</td>\n",
       "      <td>False</td>\n",
       "      <td>False</td>\n",
       "      <td>False</td>\n",
       "    </tr>\n",
       "    <tr>\n",
       "      <th>11249</th>\n",
       "      <td>False</td>\n",
       "      <td>False</td>\n",
       "      <td>False</td>\n",
       "      <td>False</td>\n",
       "      <td>False</td>\n",
       "      <td>False</td>\n",
       "      <td>False</td>\n",
       "      <td>False</td>\n",
       "      <td>False</td>\n",
       "      <td>False</td>\n",
       "      <td>False</td>\n",
       "      <td>False</td>\n",
       "      <td>False</td>\n",
       "    </tr>\n",
       "    <tr>\n",
       "      <th>11250</th>\n",
       "      <td>False</td>\n",
       "      <td>False</td>\n",
       "      <td>False</td>\n",
       "      <td>False</td>\n",
       "      <td>False</td>\n",
       "      <td>False</td>\n",
       "      <td>False</td>\n",
       "      <td>False</td>\n",
       "      <td>False</td>\n",
       "      <td>False</td>\n",
       "      <td>False</td>\n",
       "      <td>False</td>\n",
       "      <td>False</td>\n",
       "    </tr>\n",
       "  </tbody>\n",
       "</table>\n",
       "<p>11251 rows × 13 columns</p>\n",
       "</div>"
      ],
      "text/plain": [
       "       User_ID  Cust_name  Product_ID  Gender  Age Group    Age  \\\n",
       "0        False      False       False   False      False  False   \n",
       "1        False      False       False   False      False  False   \n",
       "2        False      False       False   False      False  False   \n",
       "3        False      False       False   False      False  False   \n",
       "4        False      False       False   False      False  False   \n",
       "...        ...        ...         ...     ...        ...    ...   \n",
       "11246    False      False       False   False      False  False   \n",
       "11247    False      False       False   False      False  False   \n",
       "11248    False      False       False   False      False  False   \n",
       "11249    False      False       False   False      False  False   \n",
       "11250    False      False       False   False      False  False   \n",
       "\n",
       "       Marital_Status  State   Zone  Occupation  Product_Category  Orders  \\\n",
       "0               False  False  False       False             False   False   \n",
       "1               False  False  False       False             False   False   \n",
       "2               False  False  False       False             False   False   \n",
       "3               False  False  False       False             False   False   \n",
       "4               False  False  False       False             False   False   \n",
       "...               ...    ...    ...         ...               ...     ...   \n",
       "11246           False  False  False       False             False   False   \n",
       "11247           False  False  False       False             False   False   \n",
       "11248           False  False  False       False             False   False   \n",
       "11249           False  False  False       False             False   False   \n",
       "11250           False  False  False       False             False   False   \n",
       "\n",
       "       Amount  \n",
       "0       False  \n",
       "1       False  \n",
       "2       False  \n",
       "3       False  \n",
       "4       False  \n",
       "...       ...  \n",
       "11246   False  \n",
       "11247   False  \n",
       "11248   False  \n",
       "11249   False  \n",
       "11250   False  \n",
       "\n",
       "[11251 rows x 13 columns]"
      ]
     },
     "execution_count": 11,
     "metadata": {},
     "output_type": "execute_result"
    }
   ],
   "source": [
    "df_diwali_sales.isnull()"
   ]
  },
  {
   "cell_type": "markdown",
   "id": "9d080962-162b-4536-9a68-120e1d68bb02",
   "metadata": {},
   "source": [
    "### Show Total Null values column Wise"
   ]
  },
  {
   "cell_type": "code",
   "execution_count": 12,
   "id": "077853b3-13be-4f15-82a3-b3af5eb075b4",
   "metadata": {},
   "outputs": [
    {
     "data": {
      "text/plain": [
       "User_ID              0\n",
       "Cust_name            0\n",
       "Product_ID           0\n",
       "Gender               0\n",
       "Age Group            0\n",
       "Age                  0\n",
       "Marital_Status       0\n",
       "State                0\n",
       "Zone                 0\n",
       "Occupation           0\n",
       "Product_Category     0\n",
       "Orders               0\n",
       "Amount              12\n",
       "dtype: int64"
      ]
     },
     "execution_count": 12,
     "metadata": {},
     "output_type": "execute_result"
    }
   ],
   "source": [
    "df_diwali_sales.isnull().sum()"
   ]
  },
  {
   "cell_type": "code",
   "execution_count": 13,
   "id": "0abe1848-b4e6-4c86-92b4-72360464e050",
   "metadata": {},
   "outputs": [
    {
     "data": {
      "text/plain": [
       "(11251, 13)"
      ]
     },
     "execution_count": 13,
     "metadata": {},
     "output_type": "execute_result"
    }
   ],
   "source": [
    "df_diwali_sales.shape"
   ]
  },
  {
   "cell_type": "markdown",
   "id": "fbce2c36-a7f0-4820-bde2-e9c49b9fb12b",
   "metadata": {},
   "source": [
    "### Drop Null Rows "
   ]
  },
  {
   "cell_type": "code",
   "execution_count": 14,
   "id": "50178c16-4f08-4bd0-9aff-2b2907153c97",
   "metadata": {},
   "outputs": [],
   "source": [
    "df_diwali_sales.dropna(inplace=True)"
   ]
  },
  {
   "cell_type": "raw",
   "id": "1c044acb-8413-468b-87c4-b446c26cd2c3",
   "metadata": {},
   "source": [
    "let's See the column informartion "
   ]
  },
  {
   "cell_type": "code",
   "execution_count": 15,
   "id": "e7d7679d-e6f2-4507-a761-6885fca9804f",
   "metadata": {},
   "outputs": [
    {
     "name": "stdout",
     "output_type": "stream",
     "text": [
      "<class 'pandas.core.frame.DataFrame'>\n",
      "Index: 11239 entries, 0 to 11250\n",
      "Data columns (total 13 columns):\n",
      " #   Column            Non-Null Count  Dtype  \n",
      "---  ------            --------------  -----  \n",
      " 0   User_ID           11239 non-null  int64  \n",
      " 1   Cust_name         11239 non-null  object \n",
      " 2   Product_ID        11239 non-null  object \n",
      " 3   Gender            11239 non-null  object \n",
      " 4   Age Group         11239 non-null  object \n",
      " 5   Age               11239 non-null  int64  \n",
      " 6   Marital_Status    11239 non-null  int64  \n",
      " 7   State             11239 non-null  object \n",
      " 8   Zone              11239 non-null  object \n",
      " 9   Occupation        11239 non-null  object \n",
      " 10  Product_Category  11239 non-null  object \n",
      " 11  Orders            11239 non-null  int64  \n",
      " 12  Amount            11239 non-null  float64\n",
      "dtypes: float64(1), int64(4), object(8)\n",
      "memory usage: 1.2+ MB\n"
     ]
    }
   ],
   "source": [
    "df_diwali_sales.info()"
   ]
  },
  {
   "cell_type": "raw",
   "id": "9e0a2055-1c99-4c72-9548-68a66c01dce2",
   "metadata": {},
   "source": [
    "we can see there is no null values in our dataset"
   ]
  },
  {
   "cell_type": "markdown",
   "id": "8f7e3caa-08a2-4cbf-8df6-4e9882f90f98",
   "metadata": {},
   "source": [
    "# Check Column data Type"
   ]
  },
  {
   "cell_type": "code",
   "execution_count": 16,
   "id": "99891fc0-f092-465b-aedd-59f828c0f4fd",
   "metadata": {},
   "outputs": [
    {
     "data": {
      "text/plain": [
       "dtype('float64')"
      ]
     },
     "execution_count": 16,
     "metadata": {},
     "output_type": "execute_result"
    }
   ],
   "source": [
    "df_diwali_sales['Amount'].dtype"
   ]
  },
  {
   "cell_type": "raw",
   "id": "c3e4a03a-a59d-47ba-b8d5-7105fbbcd8a6",
   "metadata": {},
   "source": [
    "lets change the type from float to int"
   ]
  },
  {
   "cell_type": "markdown",
   "id": "beaead3e-841b-4279-ba61-b3dad4d802f8",
   "metadata": {},
   "source": [
    "### Change the column data Type ( Float to int)"
   ]
  },
  {
   "cell_type": "code",
   "execution_count": 17,
   "id": "44ad9dfe-ce47-4abc-9357-19cf50e3c59f",
   "metadata": {},
   "outputs": [
    {
     "name": "stdout",
     "output_type": "stream",
     "text": [
      "type Changed \n"
     ]
    }
   ],
   "source": [
    "df_diwali_sales['Amount'] =df_diwali_sales['Amount'].astype('int')\n",
    "print('type Changed ')"
   ]
  },
  {
   "cell_type": "raw",
   "id": "a25a0ad9-50ab-4976-ab21-43699805b89e",
   "metadata": {},
   "source": [
    "Lets check the type of Amount Column "
   ]
  },
  {
   "cell_type": "code",
   "execution_count": 18,
   "id": "b5121b1a-1eff-4b3a-8a00-0a94f18ebffe",
   "metadata": {},
   "outputs": [
    {
     "data": {
      "text/plain": [
       "dtype('int32')"
      ]
     },
     "execution_count": 18,
     "metadata": {},
     "output_type": "execute_result"
    }
   ],
   "source": [
    "df_diwali_sales['Amount'].dtype"
   ]
  },
  {
   "cell_type": "raw",
   "id": "76a4e6f8-c462-4020-b55a-a4f6cdc13bb9",
   "metadata": {},
   "source": [
    "data type changed"
   ]
  },
  {
   "cell_type": "markdown",
   "id": "5e17ec4d-b9f6-4bf6-8c4e-69cb582cb031",
   "metadata": {},
   "source": [
    "### Show All columns of your dataframe "
   ]
  },
  {
   "cell_type": "code",
   "execution_count": 19,
   "id": "3b3e6fd9-7fd2-4e21-bbd8-439acc650e90",
   "metadata": {},
   "outputs": [
    {
     "data": {
      "text/plain": [
       "Index(['User_ID', 'Cust_name', 'Product_ID', 'Gender', 'Age Group', 'Age',\n",
       "       'Marital_Status', 'State', 'Zone', 'Occupation', 'Product_Category',\n",
       "       'Orders', 'Amount'],\n",
       "      dtype='object')"
      ]
     },
     "execution_count": 19,
     "metadata": {},
     "output_type": "execute_result"
    }
   ],
   "source": [
    "df_diwali_sales.columns\n",
    "# columns is an atrribute of dataframe , that returns the list of column"
   ]
  },
  {
   "cell_type": "raw",
   "id": "880a7d57-05f6-44fc-a741-8515307da870",
   "metadata": {},
   "source": [
    "So now lets remane Marital_Status to Shadi"
   ]
  },
  {
   "cell_type": "markdown",
   "id": "101cbea7-dccd-46f3-9684-959dfa40ec16",
   "metadata": {},
   "source": [
    "### Rename The column "
   ]
  },
  {
   "cell_type": "code",
   "execution_count": 20,
   "id": "7d094e0d-a007-433f-8318-815e884ac89e",
   "metadata": {},
   "outputs": [
    {
     "name": "stdout",
     "output_type": "stream",
     "text": [
      "Column Renamed Successfully !! \n",
      " Index(['User_ID', 'Cust_name', 'Product_ID', 'Gender', 'Age Group', 'Age',\n",
      "       'Shadi', 'State', 'Zone', 'Occupation', 'Product_Category', 'Orders',\n",
      "       'Amount'],\n",
      "      dtype='object')\n"
     ]
    }
   ],
   "source": [
    "df_diwali_sales.rename(columns={'Marital_Status':'Shadi'}, inplace=True)\n",
    "\n",
    "# rename() is used to rename the structure , and here we are passing Column to rename the column\n",
    "\n",
    "print(\"Column Renamed Successfully !! \\n\", df_diwali_sales.columns)"
   ]
  },
  {
   "cell_type": "markdown",
   "id": "fe997f27-492d-4994-b95c-5e0c98323984",
   "metadata": {},
   "source": [
    "### Show basic Stastistic of Numecial column data"
   ]
  },
  {
   "cell_type": "code",
   "execution_count": 21,
   "id": "4daad953-0fd6-4271-84c1-74de8a3628a3",
   "metadata": {},
   "outputs": [
    {
     "data": {
      "text/html": [
       "<div>\n",
       "<style scoped>\n",
       "    .dataframe tbody tr th:only-of-type {\n",
       "        vertical-align: middle;\n",
       "    }\n",
       "\n",
       "    .dataframe tbody tr th {\n",
       "        vertical-align: top;\n",
       "    }\n",
       "\n",
       "    .dataframe thead th {\n",
       "        text-align: right;\n",
       "    }\n",
       "</style>\n",
       "<table border=\"1\" class=\"dataframe\">\n",
       "  <thead>\n",
       "    <tr style=\"text-align: right;\">\n",
       "      <th></th>\n",
       "      <th>User_ID</th>\n",
       "      <th>Age</th>\n",
       "      <th>Shadi</th>\n",
       "      <th>Orders</th>\n",
       "      <th>Amount</th>\n",
       "    </tr>\n",
       "  </thead>\n",
       "  <tbody>\n",
       "    <tr>\n",
       "      <th>count</th>\n",
       "      <td>1.123900e+04</td>\n",
       "      <td>11239.000000</td>\n",
       "      <td>11239.000000</td>\n",
       "      <td>11239.000000</td>\n",
       "      <td>11239.000000</td>\n",
       "    </tr>\n",
       "    <tr>\n",
       "      <th>mean</th>\n",
       "      <td>1.003004e+06</td>\n",
       "      <td>35.410357</td>\n",
       "      <td>0.420055</td>\n",
       "      <td>2.489634</td>\n",
       "      <td>9453.610553</td>\n",
       "    </tr>\n",
       "    <tr>\n",
       "      <th>std</th>\n",
       "      <td>1.716039e+03</td>\n",
       "      <td>12.753866</td>\n",
       "      <td>0.493589</td>\n",
       "      <td>1.114967</td>\n",
       "      <td>5222.355168</td>\n",
       "    </tr>\n",
       "    <tr>\n",
       "      <th>min</th>\n",
       "      <td>1.000001e+06</td>\n",
       "      <td>12.000000</td>\n",
       "      <td>0.000000</td>\n",
       "      <td>1.000000</td>\n",
       "      <td>188.000000</td>\n",
       "    </tr>\n",
       "    <tr>\n",
       "      <th>25%</th>\n",
       "      <td>1.001492e+06</td>\n",
       "      <td>27.000000</td>\n",
       "      <td>0.000000</td>\n",
       "      <td>2.000000</td>\n",
       "      <td>5443.000000</td>\n",
       "    </tr>\n",
       "    <tr>\n",
       "      <th>50%</th>\n",
       "      <td>1.003064e+06</td>\n",
       "      <td>33.000000</td>\n",
       "      <td>0.000000</td>\n",
       "      <td>2.000000</td>\n",
       "      <td>8109.000000</td>\n",
       "    </tr>\n",
       "    <tr>\n",
       "      <th>75%</th>\n",
       "      <td>1.004426e+06</td>\n",
       "      <td>43.000000</td>\n",
       "      <td>1.000000</td>\n",
       "      <td>3.000000</td>\n",
       "      <td>12675.000000</td>\n",
       "    </tr>\n",
       "    <tr>\n",
       "      <th>max</th>\n",
       "      <td>1.006040e+06</td>\n",
       "      <td>92.000000</td>\n",
       "      <td>1.000000</td>\n",
       "      <td>4.000000</td>\n",
       "      <td>23952.000000</td>\n",
       "    </tr>\n",
       "  </tbody>\n",
       "</table>\n",
       "</div>"
      ],
      "text/plain": [
       "            User_ID           Age         Shadi        Orders        Amount\n",
       "count  1.123900e+04  11239.000000  11239.000000  11239.000000  11239.000000\n",
       "mean   1.003004e+06     35.410357      0.420055      2.489634   9453.610553\n",
       "std    1.716039e+03     12.753866      0.493589      1.114967   5222.355168\n",
       "min    1.000001e+06     12.000000      0.000000      1.000000    188.000000\n",
       "25%    1.001492e+06     27.000000      0.000000      2.000000   5443.000000\n",
       "50%    1.003064e+06     33.000000      0.000000      2.000000   8109.000000\n",
       "75%    1.004426e+06     43.000000      1.000000      3.000000  12675.000000\n",
       "max    1.006040e+06     92.000000      1.000000      4.000000  23952.000000"
      ]
     },
     "execution_count": 21,
     "metadata": {},
     "output_type": "execute_result"
    }
   ],
   "source": [
    "df_diwali_sales.describe()\n",
    "# describe() is used to show your basic Statistics on your data\n",
    "# by default , if show the returns the Stats of Measures, But you can show Stats of Any type of Data(Measures & Dimensions) "
   ]
  },
  {
   "cell_type": "raw",
   "id": "d44e9037-dfa0-4cb7-804c-7747ea4b8653",
   "metadata": {},
   "source": [
    "Let's Describe the data of Specific Column "
   ]
  },
  {
   "cell_type": "code",
   "execution_count": 22,
   "id": "60f8d500-bb72-40ab-8058-6b7d6468f411",
   "metadata": {},
   "outputs": [
    {
     "data": {
      "text/html": [
       "<div>\n",
       "<style scoped>\n",
       "    .dataframe tbody tr th:only-of-type {\n",
       "        vertical-align: middle;\n",
       "    }\n",
       "\n",
       "    .dataframe tbody tr th {\n",
       "        vertical-align: top;\n",
       "    }\n",
       "\n",
       "    .dataframe thead th {\n",
       "        text-align: right;\n",
       "    }\n",
       "</style>\n",
       "<table border=\"1\" class=\"dataframe\">\n",
       "  <thead>\n",
       "    <tr style=\"text-align: right;\">\n",
       "      <th></th>\n",
       "      <th>Age</th>\n",
       "      <th>Orders</th>\n",
       "      <th>Amount</th>\n",
       "    </tr>\n",
       "  </thead>\n",
       "  <tbody>\n",
       "    <tr>\n",
       "      <th>count</th>\n",
       "      <td>11239.000000</td>\n",
       "      <td>11239.000000</td>\n",
       "      <td>11239.000000</td>\n",
       "    </tr>\n",
       "    <tr>\n",
       "      <th>mean</th>\n",
       "      <td>35.410357</td>\n",
       "      <td>2.489634</td>\n",
       "      <td>9453.610553</td>\n",
       "    </tr>\n",
       "    <tr>\n",
       "      <th>std</th>\n",
       "      <td>12.753866</td>\n",
       "      <td>1.114967</td>\n",
       "      <td>5222.355168</td>\n",
       "    </tr>\n",
       "    <tr>\n",
       "      <th>min</th>\n",
       "      <td>12.000000</td>\n",
       "      <td>1.000000</td>\n",
       "      <td>188.000000</td>\n",
       "    </tr>\n",
       "    <tr>\n",
       "      <th>25%</th>\n",
       "      <td>27.000000</td>\n",
       "      <td>2.000000</td>\n",
       "      <td>5443.000000</td>\n",
       "    </tr>\n",
       "    <tr>\n",
       "      <th>50%</th>\n",
       "      <td>33.000000</td>\n",
       "      <td>2.000000</td>\n",
       "      <td>8109.000000</td>\n",
       "    </tr>\n",
       "    <tr>\n",
       "      <th>75%</th>\n",
       "      <td>43.000000</td>\n",
       "      <td>3.000000</td>\n",
       "      <td>12675.000000</td>\n",
       "    </tr>\n",
       "    <tr>\n",
       "      <th>max</th>\n",
       "      <td>92.000000</td>\n",
       "      <td>4.000000</td>\n",
       "      <td>23952.000000</td>\n",
       "    </tr>\n",
       "  </tbody>\n",
       "</table>\n",
       "</div>"
      ],
      "text/plain": [
       "                Age        Orders        Amount\n",
       "count  11239.000000  11239.000000  11239.000000\n",
       "mean      35.410357      2.489634   9453.610553\n",
       "std       12.753866      1.114967   5222.355168\n",
       "min       12.000000      1.000000    188.000000\n",
       "25%       27.000000      2.000000   5443.000000\n",
       "50%       33.000000      2.000000   8109.000000\n",
       "75%       43.000000      3.000000  12675.000000\n",
       "max       92.000000      4.000000  23952.000000"
      ]
     },
     "execution_count": 22,
     "metadata": {},
     "output_type": "execute_result"
    }
   ],
   "source": [
    "df_diwali_sales[['Age', 'Orders', 'Amount']].describe()\n",
    "# here we are passinf the lists of column to show the Stats Details\n",
    "# Describe() methods returns the Statistics Information of your dataset"
   ]
  },
  {
   "cell_type": "raw",
   "id": "e4b1c682-a437-4e1f-b422-02fea902fc6e",
   "metadata": {},
   "source": [
    "So above we performed the main role that requires in any project before we move to Analysis that is Data Preprocessing\n",
    "Data Preprocessing :\n",
    "                >> Loading dataset\n",
    "                >> Data Cleaning\n",
    "                        >> Handling Missing data\n",
    "                        >> Removing Duplicates\n",
    "                        >> Renaming Column\n",
    "                        >> Droping unwanted Column \n",
    "                        >> Data Type Conversion\n",
    "                \n",
    "                    "
   ]
  },
  {
   "cell_type": "markdown",
   "id": "48f671d6-1829-43d3-bea0-4cbf6a681f60",
   "metadata": {},
   "source": [
    "# EDA : Exploratory Data Analysis"
   ]
  },
  {
   "cell_type": "markdown",
   "id": "7b67aa50-0895-472c-b0d2-fd9611aa3ba2",
   "metadata": {},
   "source": [
    "# Show Gender Wise Total Count"
   ]
  },
  {
   "cell_type": "code",
   "execution_count": 23,
   "id": "79dadb0e-1e63-4aa4-98e1-438b53b0aedf",
   "metadata": {},
   "outputs": [
    {
     "data": {
      "image/png": "[encoded data removed]",
      "text/plain": [
       "<Figure size 640x480 with 1 Axes>"
      ]
     },
     "metadata": {},
     "output_type": "display_data"
    }
   ],
   "source": [
    "ax= sns.countplot(x= 'Gender', data=df_diwali_sales)\n",
    "for bar in ax.containers:\n",
    "    ax.bar_label(bar)\n",
    "\n",
    "plt.title('Gender Wise Total Count')\n",
    "plt.show()"
   ]
  },
  {
   "cell_type": "markdown",
   "id": "acb4cdaa-4b75-4f20-8a50-0b045967d72c",
   "metadata": {},
   "source": [
    "# Sales By Gender "
   ]
  },
  {
   "cell_type": "code",
   "execution_count": 4,
   "id": "d4cb8420-1378-41c8-9e87-6eb27bddec91",
   "metadata": {},
   "outputs": [
    {
     "data": {
      "text/html": [
       "<div>\n",
       "<style scoped>\n",
       "    .dataframe tbody tr th:only-of-type {\n",
       "        vertical-align: middle;\n",
       "    }\n",
       "\n",
       "    .dataframe tbody tr th {\n",
       "        vertical-align: top;\n",
       "    }\n",
       "\n",
       "    .dataframe thead th {\n",
       "        text-align: right;\n",
       "    }\n",
       "</style>\n",
       "<table border=\"1\" class=\"dataframe\">\n",
       "  <thead>\n",
       "    <tr style=\"text-align: right;\">\n",
       "      <th></th>\n",
       "      <th>Gender</th>\n",
       "      <th>Amount</th>\n",
       "    </tr>\n",
       "  </thead>\n",
       "  <tbody>\n",
       "    <tr>\n",
       "      <th>0</th>\n",
       "      <td>F</td>\n",
       "      <td>74335856.43</td>\n",
       "    </tr>\n",
       "    <tr>\n",
       "      <th>1</th>\n",
       "      <td>M</td>\n",
       "      <td>31913276.00</td>\n",
       "    </tr>\n",
       "  </tbody>\n",
       "</table>\n",
       "</div>"
      ],
      "text/plain": [
       "  Gender       Amount\n",
       "0      F  74335856.43\n",
       "1      M  31913276.00"
      ]
     },
     "execution_count": 4,
     "metadata": {},
     "output_type": "execute_result"
    }
   ],
   "source": [
    "sales_by_Gender = df_diwali_sales.groupby('Gender', as_index=False)['Amount'].sum()\n",
    "sales_by_Gender"
   ]
  },
  {
   "cell_type": "code",
   "execution_count": 5,
   "id": "ec15a5a9-1b72-4538-b55a-cc0be1d38ecb",
   "metadata": {},
   "outputs": [
    {
     "data": {
      "image/png": "[encoded data removed]",
      "text/plain": [
       "<Figure size 640x480 with 1 Axes>"
      ]
     },
     "metadata": {},
     "output_type": "display_data"
    }
   ],
   "source": [
    "sns.barplot(x='Gender', y='Amount', data=sales_by_Gender)\n",
    "\n",
    "plt.title('Sales By Gender')\n",
    "plt.show()"
   ]
  },
  {
   "cell_type": "raw",
   "id": "dfc626cc-0b1f-4ed5-acee-f13b6fd4e907",
   "metadata": {},
   "source": [
    "From above Pic/graph you can find that, femal has given more revenue than Male "
   ]
  },
  {
   "cell_type": "markdown",
   "id": "2dfeebe2-2c28-4453-b657-a848f448caaf",
   "metadata": {},
   "source": [
    "@@@@@@@@@@@@@@@@@@@@@@@@@@@@@@@@@@@@@@@@@@@@@@@@@@@@@@@@@@@@@@@@@@@@@@@@@@@@"
   ]
  },
  {
   "cell_type": "markdown",
   "id": "5ca69362-e0a9-450c-a756-998e30d05880",
   "metadata": {},
   "source": [
    "# Sales By Age"
   ]
  },
  {
   "cell_type": "code",
   "execution_count": 6,
   "id": "dc64aa98-dd1e-498d-8701-8abee1f6f22b",
   "metadata": {},
   "outputs": [
    {
     "data": {
      "text/html": [
       "<div>\n",
       "<style scoped>\n",
       "    .dataframe tbody tr th:only-of-type {\n",
       "        vertical-align: middle;\n",
       "    }\n",
       "\n",
       "    .dataframe tbody tr th {\n",
       "        vertical-align: top;\n",
       "    }\n",
       "\n",
       "    .dataframe thead th {\n",
       "        text-align: right;\n",
       "    }\n",
       "</style>\n",
       "<table border=\"1\" class=\"dataframe\">\n",
       "  <thead>\n",
       "    <tr style=\"text-align: right;\">\n",
       "      <th></th>\n",
       "      <th>Age Group</th>\n",
       "      <th>Amount</th>\n",
       "    </tr>\n",
       "  </thead>\n",
       "  <tbody>\n",
       "    <tr>\n",
       "      <th>0</th>\n",
       "      <td>0-17</td>\n",
       "      <td>2699653.00</td>\n",
       "    </tr>\n",
       "    <tr>\n",
       "      <th>1</th>\n",
       "      <td>18-25</td>\n",
       "      <td>17240732.00</td>\n",
       "    </tr>\n",
       "    <tr>\n",
       "      <th>2</th>\n",
       "      <td>26-35</td>\n",
       "      <td>42613443.94</td>\n",
       "    </tr>\n",
       "    <tr>\n",
       "      <th>3</th>\n",
       "      <td>36-45</td>\n",
       "      <td>22144995.49</td>\n",
       "    </tr>\n",
       "    <tr>\n",
       "      <th>4</th>\n",
       "      <td>46-50</td>\n",
       "      <td>9207844.00</td>\n",
       "    </tr>\n",
       "    <tr>\n",
       "      <th>5</th>\n",
       "      <td>51-55</td>\n",
       "      <td>8261477.00</td>\n",
       "    </tr>\n",
       "    <tr>\n",
       "      <th>6</th>\n",
       "      <td>55+</td>\n",
       "      <td>4080987.00</td>\n",
       "    </tr>\n",
       "  </tbody>\n",
       "</table>\n",
       "</div>"
      ],
      "text/plain": [
       "  Age Group       Amount\n",
       "0      0-17   2699653.00\n",
       "1     18-25  17240732.00\n",
       "2     26-35  42613443.94\n",
       "3     36-45  22144995.49\n",
       "4     46-50   9207844.00\n",
       "5     51-55   8261477.00\n",
       "6       55+   4080987.00"
      ]
     },
     "execution_count": 6,
     "metadata": {},
     "output_type": "execute_result"
    }
   ],
   "source": [
    "sales_by_ageGroup = df_diwali_sales.groupby('Age Group', as_index=False)['Amount'].sum()\n",
    "sales_by_ageGroup"
   ]
  },
  {
   "cell_type": "code",
   "execution_count": 7,
   "id": "7e643d9d-c604-439e-8750-bc83da3559bc",
   "metadata": {},
   "outputs": [
    {
     "data": {
      "image/png": "[encoded data removed]",
      "text/plain": [
       "<Figure size 640x480 with 1 Axes>"
      ]
     },
     "metadata": {},
     "output_type": "display_data"
    }
   ],
   "source": [
    "sns.barplot(x='Age Group', y='Amount', data=sales_by_ageGroup)\n",
    "plt.title('Sales By Age Group')\n",
    "plt.show()"
   ]
  },
  {
   "cell_type": "raw",
   "id": "38f35c4d-35cb-4bdb-af67-6a25b165919f",
   "metadata": {},
   "source": [
    "From above graph , we acan analyse that most buyers are of age group of 26-35"
   ]
  },
  {
   "cell_type": "markdown",
   "id": "3081f708-db45-4c9d-b8f7-e24ac9e8bb12",
   "metadata": {},
   "source": [
    "@@@@@@@@@@@@@@@@@@@@@@@@@@@@@@@@@@@@@@@@@@@@@@@@@@@@@@@@@@@@@@@@@@@@@@@@@@@@"
   ]
  },
  {
   "cell_type": "markdown",
   "id": "fdc68146-b972-465e-aedb-42bb83285d98",
   "metadata": {},
   "source": [
    "# Show top 10 Order Qty By State"
   ]
  },
  {
   "cell_type": "code",
   "execution_count": 61,
   "id": "47ca8ac0-f972-4dcd-99dd-4fd3ccf17d86",
   "metadata": {},
   "outputs": [
    {
     "data": {
      "image/png": "[encoded data removed]",
      "text/plain": [
       "<Figure size 2000x400 with 1 Axes>"
      ]
     },
     "metadata": {},
     "output_type": "display_data"
    }
   ],
   "source": [
    "order_by_state= df_diwali_sales.groupby('State', as_index=False)['Orders'].sum().sort_values(by='Orders', ascending= False).head(10)\n",
    "\n",
    "# set X ,y Axis\n",
    "sns.barplot(x= 'State' , y = 'Orders', data= order_by_state)\n",
    "\n",
    "# set Figsize\n",
    "sns.set(rc= {'figure.figsize':(25,4)})\n",
    "\n",
    "# set Title\n",
    "plt.title('Top 10 State By Order Quantity')\n",
    "\n",
    "# show Graph\n",
    "plt.show()\n"
   ]
  },
  {
   "cell_type": "raw",
   "id": "80095758-0179-49ac-9d19-fda80805b4a2",
   "metadata": {},
   "source": [
    "In above graph, you can see that Uttarpradesh has highest Order Quantity"
   ]
  },
  {
   "cell_type": "markdown",
   "id": "bc6bcffb-8050-4c5d-bfdd-024d639a5168",
   "metadata": {},
   "source": [
    "@@@@@@@@@@@@@@@@@@@@@@@@@@@@@@@@@@@@@@@@@@@@@@@@@@@@@@@@@@@@@@@@@@@@@@@@@@@@"
   ]
  },
  {
   "cell_type": "markdown",
   "id": "e2771b36-9b56-4759-b899-67378e708c1c",
   "metadata": {},
   "source": [
    "# Show Top 10 State By Sales"
   ]
  },
  {
   "cell_type": "code",
   "execution_count": 63,
   "id": "63d23926-8601-44ae-b90e-9e5961e66a24",
   "metadata": {},
   "outputs": [
    {
     "data": {
      "image/png": "[encoded data removed]",
      "text/plain": [
       "<Figure size 2000x400 with 1 Axes>"
      ]
     },
     "metadata": {},
     "output_type": "display_data"
    }
   ],
   "source": [
    "sales_by_state= df_diwali_sales.groupby('State', as_index=False)['Amount'].sum().head(10)\n",
    "\n",
    "# set X ,y Axis\n",
    "sns.barplot(x= 'State' , y = 'Amount', data= sales_by_state)\n",
    "\n",
    "# set Figsize\n",
    "sns.set(rc= {'figure.figsize':(20,4)})\n",
    "\n",
    "# set Title\n",
    "plt.title('Top 10 State By Sales')\n",
    "\n",
    "# show Graph\n",
    "plt.show()"
   ]
  },
  {
   "cell_type": "raw",
   "id": "3ddbae14-be6d-4eb6-91af-f759d4a16e95",
   "metadata": {},
   "source": [
    "In above graph you can see that Karnataka Has the highest Sale Value ."
   ]
  },
  {
   "cell_type": "markdown",
   "id": "5e69a01d-1dd3-4295-bbda-2ef16eebaade",
   "metadata": {},
   "source": [
    "@@@@@@@@@@@@@@@@@@@@@@@@@@@@@@@@@@@@@@@@@@@@@@@@@@@@@@@@@@@@@@@@@@@@@@@@@@@@"
   ]
  },
  {
   "cell_type": "markdown",
   "id": "ac27c046-3295-46c2-99e5-526c058ef6f0",
   "metadata": {},
   "source": [
    "# Show Order Count By Marital Status "
   ]
  },
  {
   "cell_type": "code",
   "execution_count": 38,
   "id": "38a06aad-a0bb-404d-8e0a-54f6ae4ece90",
   "metadata": {},
   "outputs": [
    {
     "data": {
      "image/png": "[encoded data removed]",
      "text/plain": [
       "<Figure size 200x400 with 1 Axes>"
      ]
     },
     "metadata": {},
     "output_type": "display_data"
    }
   ],
   "source": [
    "\n",
    "ax=sns.countplot(data= df_diwali_sales, x='Shadi')\n",
    "\n",
    "\n",
    "for bar in ax.containers:\n",
    "    ax.bar_label(bar)\n",
    "\n",
    "\n",
    "# set Figsize\n",
    "sns.set(rc= {'figure.figsize':(10,4)})\n",
    "\n",
    "# set Title\n",
    "plt.title('Order Count By Marital Status !!')\n",
    "\n",
    "# show Graph\n",
    "plt.show()"
   ]
  },
  {
   "cell_type": "markdown",
   "id": "015e7cc0-89bd-41a4-8887-26efe9530f8b",
   "metadata": {},
   "source": [
    "@@@@@@@@@@@@@@@@@@@@@@@@@@@@@@@@@@@@@@@@@@@@@@@@@@@@@@@@@@@@@@@@@@@@@@@@@@@@"
   ]
  },
  {
   "cell_type": "markdown",
   "id": "7bf8bdd6-7b16-4760-8372-5bf73ba2f667",
   "metadata": {},
   "source": [
    "# Show Sales By Marital Ststus & Breakdown By Gender"
   ]
  },
  {
   "cell_type": "code",
   "execution_count": 42,
   "id": "57a465d3-6131-4753-a66d-862efb6f4bdf",
   "metadata": {},
   "outputs": [
    {
     "data": {
      "image/png": "[encoded data removed]",
      "text/plain": [
       "<Figure size 600x400 with 1 Axes>"
      ]
     },
     "metadata": {},
     "output_type": "display_data"
    }
   ],
   "source": [
    "sales_by_marital= df_diwali_sales.groupby(['Shadi', 'Gender'], as_index=False)['Amount'].sum()\n",
    "\n",
    "# set X ,y Axis\n",
    "sns.barplot(x= 'Shadi' , y = 'Amount', data= sales_by_marital, hue='Gender')\n",
    "\n",
    "# set Figsize\n",
    "sns.set(rc= {'figure.figsize':(2,4)})\n",
    "\n",
    "# set Title\n",
    "plt.title('Sales By Marital Status')\n",
    "\n",
    "# show Graph\n",
    "plt.show()"
   ]
  },
  {
   "cell_type": "markdown",
   "id": "b87ed843-270e-4a05-95b3-f8f16c7560e6",
   "metadata": {},
   "source": [
    "@@@@@@@@@@@@@@@@@@@@@@@@@@@@@@@@@@@@@@@@@@@@@@@@@@@@@@@@@@@@@@@@@@@@@@@@@@@@"
   ]
  },
  {
   "cell_type": "raw",
   "id": "79b7219b-a9e6-489b-ab7b-7429dfabf085",
   "metadata": {},
   "source": [
    "So in above graph, you can see that, Most Order Done by Married One, and they are Female, and also Female buyer are generating more sale "
   ]
  },
  {
   "cell_type": "code",
   "execution_count": 43,
   "id": "54b825ea-e732-4232-a20a-547d9e06d1d0",
   "metadata": {},
   "outputs": [
    {
     "data": {
      "text/plain": [
       "Index(['User_ID', 'Cust_name', 'Product_ID', 'Gender', 'Age Group', 'Age',\n",
       "       'Shadi', 'State', 'Zone', 'Occupation', 'Product_Category', 'Orders',\n",
       "       'Amount'],\n",
       "      dtype='object')"
      ]
     },
     "execution_count": 43,
     "metadata": {},
     "output_type": "execute_result"
    }
   ],
   "source": [
    "df_diwali_sales.columns"
   ]
  },
  {
   "cell_type": "markdown",
   "id": "e15cb7d9-5df5-42ac-9e90-c85a8a54a08f",
   "metadata": {},
   "source": [
    "@@@@@@@@@@@@@@@@@@@@@@@@@@@@@@@@@@@@@@@@@@@@@@@@@@@@@@@@@@@@@@@@@@@@@@@@@@@@"
   ]
  },
  {
   "cell_type": "markdown",
   "id": "5f0454fd-3d17-4d5e-b1be-511d2794e4d7",
   "metadata": {},
   "source": [
    "# Show Occupation wise Total Order Count"
   ]
  },
  {
   "cell_type": "code",
   "execution_count": 46,
   "id": "441eb857-21a6-4799-893b-32aa36ac83ce",
   "metadata": {},
   "outputs": [
    {
     "data": {
      "image/png": "[encoded data removed]",
      "text/plain": [
       "<Figure size 2000x400 with 1 Axes>"
      ]
     },
     "metadata": {},
     "output_type": "display_data"
    }
   ],
   "source": [
    "\n",
    "ax=sns.countplot(data= df_diwali_sales, x='Occupation')\n",
    "\n",
    "for bar in ax.containers:\n",
    "    ax.bar_label(bar)\n",
    "\n",
    "\n",
    "# set Figsize\n",
    "sns.set(rc= {'figure.figsize':(22,4)})\n",
    "\n",
    "# set Title\n",
    "plt.title('Order Count By Occupation !!')\n",
    "\n",
    "# show Graph\n",
    "plt.show()"
   ]
  },
  {
   "cell_type": "raw",
   "id": "35e7f623-9d1c-4d6f-b3df-b85e2f3eb286",
   "metadata": {},
   "source": [
    "So in above graph, we can see that IT sector people are doing highest purchase."
   ]
  },
  {
   "cell_type": "markdown",
   "id": "cb6af38f-7410-476b-86b8-4166d66845c1",
   "metadata": {},
   "source": [
    "@@@@@@@@@@@@@@@@@@@@@@@@@@@@@@@@@@@@@@@@@@@@@@@@@@@@@@@@@@@@@@@@@@@@@@@@@@@@"
   ]
  },
  {
   "cell_type": "markdown",
   "id": "0711bb8f-fdd1-4dfc-be02-e2fd1a12250b",
   "metadata": {},
   "source": [
    "# Show Sales by Occupation "
   ]
  },
  {
   "cell_type": "code",
   "execution_count": 8,
   "id": "9eae02c9-f566-4b22-9639-64782190ce80",
   "metadata": {},
   "outputs": [
    {
     "data": {
      "text/html": [
       "<div>\n",
       "<style scoped>\n",
       "    .dataframe tbody tr th:only-of-type {\n",
       "        vertical-align: middle;\n",
       "    }\n",
       "\n",
       "    .dataframe tbody tr th {\n",
       "        vertical-align: top;\n",
       "    }\n",
       "\n",
       "    .dataframe thead th {\n",
       "        text-align: right;\n",
       "    }\n",
       "</style>\n",
       "<table border=\"1\" class=\"dataframe\">\n",
       "  <thead>\n",
       "    <tr style=\"text-align: right;\">\n",
       "      <th></th>\n",
       "      <th>Occupation</th>\n",
       "      <th>Amount</th>\n",
       "    </tr>\n",
       "  </thead>\n",
       "  <tbody>\n",
       "    <tr>\n",
       "      <th>10</th>\n",
       "      <td>IT Sector</td>\n",
       "      <td>14755079.00</td>\n",
       "    </tr>\n",
       "    <tr>\n",
       "      <th>8</th>\n",
       "      <td>Healthcare</td>\n",
       "      <td>13034587.49</td>\n",
       "    </tr>\n",
       "    <tr>\n",
       "      <th>2</th>\n",
       "      <td>Aviation</td>\n",
       "      <td>12602298.00</td>\n",
       "    </tr>\n",
       "    <tr>\n",
       "      <th>3</th>\n",
       "      <td>Banking</td>\n",
       "      <td>10770610.95</td>\n",
       "    </tr>\n",
       "    <tr>\n",
       "      <th>7</th>\n",
       "      <td>Govt</td>\n",
       "      <td>8517212.00</td>\n",
       "    </tr>\n",
       "    <tr>\n",
       "      <th>9</th>\n",
       "      <td>Hospitality</td>\n",
       "      <td>6376405.00</td>\n",
       "    </tr>\n",
       "    <tr>\n",
       "      <th>12</th>\n",
       "      <td>Media</td>\n",
       "      <td>6295832.99</td>\n",
       "    </tr>\n",
       "    <tr>\n",
       "      <th>1</th>\n",
       "      <td>Automobile</td>\n",
       "      <td>5368596.00</td>\n",
       "    </tr>\n",
       "    <tr>\n",
       "      <th>4</th>\n",
       "      <td>Chemical</td>\n",
       "      <td>5297436.00</td>\n",
       "    </tr>\n",
       "    <tr>\n",
       "      <th>11</th>\n",
       "      <td>Lawyer</td>\n",
       "      <td>4981665.00</td>\n",
       "    </tr>\n",
       "    <tr>\n",
       "      <th>13</th>\n",
       "      <td>Retail</td>\n",
       "      <td>4783170.00</td>\n",
       "    </tr>\n",
       "    <tr>\n",
       "      <th>6</th>\n",
       "      <td>Food Processing</td>\n",
       "      <td>4070670.00</td>\n",
       "    </tr>\n",
       "    <tr>\n",
       "      <th>5</th>\n",
       "      <td>Construction</td>\n",
       "      <td>3597511.00</td>\n",
       "    </tr>\n",
       "    <tr>\n",
       "      <th>14</th>\n",
       "      <td>Textile</td>\n",
       "      <td>3204972.00</td>\n",
       "    </tr>\n",
       "    <tr>\n",
       "      <th>0</th>\n",
       "      <td>Agriculture</td>\n",
       "      <td>2593087.00</td>\n",
       "    </tr>\n",
       "  </tbody>\n",
       "</table>\n",
       "</div>"
      ],
      "text/plain": [
       "         Occupation       Amount\n",
       "10        IT Sector  14755079.00\n",
       "8        Healthcare  13034587.49\n",
       "2          Aviation  12602298.00\n",
       "3           Banking  10770610.95\n",
       "7              Govt   8517212.00\n",
       "9       Hospitality   6376405.00\n",
       "12            Media   6295832.99\n",
       "1        Automobile   5368596.00\n",
       "4          Chemical   5297436.00\n",
       "11           Lawyer   4981665.00\n",
       "13           Retail   4783170.00\n",
       "6   Food Processing   4070670.00\n",
       "5      Construction   3597511.00\n",
       "14          Textile   3204972.00\n",
       "0       Agriculture   2593087.00"
      ]
     },
     "execution_count": 8,
     "metadata": {},
     "output_type": "execute_result"
    }
   ],
   "source": [
    "sales_by_Occ= df_diwali_sales.groupby(['Occupation'], as_index=False)['Amount'].sum().sort_values(by='Amount', ascending=False)\n",
    "sales_by_Occ"
   ]
  },
  {
   "cell_type": "code",
   "execution_count": 10,
   "id": "e2eff2e9-f1a7-4912-a92b-89829b1cc89d",
   "metadata": {},
   "outputs": [
    {
     "data": {
      "image/png": "[encoded data removed]",
      "text/plain": [
       "<Figure size 2000x400 with 1 Axes>"
      ]
     },
     "metadata": {},
     "output_type": "display_data"
    }
   ],
   "source": [
    "# set X ,y Axis\n",
    "ax=sns.barplot(\n",
    "                x= 'Occupation' , \n",
    "                y = 'Amount',\n",
    "                data= sales_by_Occ\n",
    "            )\n",
    "\n",
    "# set Figsize\n",
    "sns.set(rc= {'figure.figsize':(30,4)})\n",
    "\n",
    "# set Title\n",
    "plt.title('Sales By Occupation !!')\n",
    "\n",
    "# show Graph\n",
    "plt.show()"
   ]
  },
  {
   "cell_type": "raw",
   "id": "e23aefb1-4e5e-4ab0-b922-038e371c39ab",
   "metadata": {},
   "source": [
    "So in above graph, You can see that, It Sector is again here doing highest sales."
   ]
  },
  {
   "cell_type": "markdown",
   "id": "df955456-45a2-4d73-953f-cc4e3e6f52ad",
   "metadata": {},
   "source": [
    "@@@@@@@@@@@@@@@@@@@@@@@@@@@@@@@@@@@@@@@@@@@@@@@@@@@@@@@@@@@@@@@@@@@@@@@@@@@@"
   ]
  },
  {
   "cell_type": "markdown",
   "id": "64e626e9-c21e-44c3-9dee-482ff962994a",
   "metadata": {},
   "source": [
    "# Show Product wise Total Order Count"
   ]
  },
  {
   "cell_type": "code",
   "execution_count": 55,
   "id": "4d5b825a-83ef-4487-a613-2a5eaf0b24d3",
   "metadata": {},
   "outputs": [
    {
     "data": {
      "image/png": "[encoded data removed]",
      "text/plain": [
       "<Figure size 2200x400 with 1 Axes>"
      ]
     },
     "metadata": {},
     "output_type": "display_data"
    }
   ],
   "source": [
    "\n",
    "ax=sns.countplot(data= df_diwali_sales, x='Product_Category')\n",
    "\n",
    "for bar in ax.containers:\n",
    "    ax.bar_label(bar)\n",
    "\n",
    "\n",
    "# set Figsize\n",
    "sns.set(rc= {'figure.figsize':(22,5)})\n",
    "\n",
    "# set Title\n",
    "plt.title('Order Count By Product_Category !!')\n",
    "\n",
    "# show Graph\n",
    "plt.show()"
   ]
  },
  {
   "cell_type": "raw",
   "id": "6a20c8f0-f99c-4824-8afd-11930dec93fd",
   "metadata": {},
   "source": [
    "Above we can see that Clothing & Apparel has highest Order Quantity"
   ]
  },
  {
   "cell_type": "markdown",
   "id": "cbcdf767-9e52-4247-86b7-7432eb85ae27",
   "metadata": {},
   "source": [
    "@@@@@@@@@@@@@@@@@@@@@@@@@@@@@@@@@@@@@@@@@@@@@@@@@@@@@@@@@@@@@@@@@@@@@@@@@@@@"
   ]
  },
  {
   "cell_type": "markdown",
   "id": "823bfae0-be79-4203-9a5a-d232beea466d",
   "metadata": {},
   "source": [
    "# Show Product Category Wise Sales "
   ]
  },
  {
   "cell_type": "code",
   "execution_count": 11,
   "id": "e7d3c5b2-f1df-48d9-b2af-0cae4ba0bbac",
   "metadata": {},
   "outputs": [
    {
     "data": {
      "image/png": "[encoded data removed]",
      "text/plain": [
       "<Figure size 3000x400 with 1 Axes>"
      ]
     },
     "metadata": {},
     "output_type": "display_data"
    }
   ],
   "source": [
    "sales_by_Prod_cate= df_diwali_sales.groupby(['Product_Category'], as_index=False)['Amount'].sum().sort_values(by='Amount', ascending=False)\n",
    "# set X ,y Axis\n",
    "ax=sns.barplot(\n",
    "                x= 'Product_Category' , \n",
    "                y = 'Amount',\n",
    "                data= sales_by_Prod_cate\n",
    "            )\n",
    "\n",
    "# set Figsize\n",
    "sns.set(rc= {'figure.figsize':(20,4)})\n",
    "\n",
    "# set Title\n",
    "plt.title('Sales By Product_Category !!')\n",
    "\n",
    "# show Graph\n",
    "plt.show()"
   ]
  },
  {
   "cell_type": "code",
   "execution_count": null,
   "id": "1c77f1a3-35c7-4222-b5d0-fba5157901c1",
   "metadata": {},
   "outputs": [],
   "source": [
    "So here you can see"
   ]
  },
  {
   "cell_type": "code",
   "execution_count": 53,
   "id": "6adee2a2-a9e0-4991-800c-c6e0a5d0a44e",
   "metadata": {},
   "outputs": [
    {
     "data": {
      "text/plain": [
       "Index(['User_ID', 'Cust_name', 'Product_ID', 'Gender', 'Age Group', 'Age',\n",
       "       'Shadi', 'State', 'Zone', 'Occupation', 'Product_Category', 'Orders',\n",
       "       'Amount'],\n",
       "      dtype='object')"
      ]
     },
     "execution_count": 53,
     "metadata": {},
     "output_type": "execute_result"
    }
   ],
   "source": [
    "df_diwali_sales.columns"
   ]
  },
  {
   "cell_type": "markdown",
   "id": "07945c14-4643-4371-b57f-b64dfc4bc042",
   "metadata": {},
   "source": [
    "# Show top 10 product by Sales"
   ]
  },
  {
   "cell_type": "code",
   "execution_count": 60,
   "id": "db498fa9-f009-48cf-ac49-0f18cf316f9e",
   "metadata": {},
   "outputs": [
    {
     "data": {
      "image/png": "[encoded data removed]",
      "text/plain": [
       "<Figure size 2000x400 with 1 Axes>"
      ]
     },
     "metadata": {},
     "output_type": "display_data"
    }
   ],
   "source": [
    "\n",
    "sales_by_Prod_cate= df_diwali_sales.groupby(['Product_ID'], as_index=False)['Amount'].sum().sort_values(by='Amount', ascending=False).head(10)\n",
    "# set X ,y Axis\n",
    "ax=sns.barplot(\n",
    "                x= 'Product_ID' , \n",
    "                y = 'Amount',\n",
    "                data= sales_by_Prod_cate\n",
    "            )\n",
    "\n",
    "# set Figsize\n",
    "sns.set(rc= {'figure.figsize':(20,4)})\n",
    "\n",
    "# set Title\n",
    "plt.title('Top 10 Product_ID By Sales !!')\n",
    "\n",
    "# show Graph\n",
    "plt.show()"
   ]
  },
  {
   "cell_type": "markdown",
   "id": "bed10975-adcc-4e4d-80ad-f8a47f588ef4",
   "metadata": {},
   "source": [
    "# Conclusion :::::>>>>>>>>>>>>>>>>>>>>>>"
   ]
  },
  {
   "cell_type": "markdown",
   "id": "70f0a82e-4f0d-4412-8109-3a6ceacb0bc3",
   "metadata": {},
   "source": [
    "# So in this Diwali Sales EDA Project,\n",
    "## We Extracted some good Insights :\n",
    "\t#### >> Gender Wise Total Count :- Females are purchasing than Male.\n",
    "\t#### >> Sales By Gende :- Female are generating highest sales.\n",
    "\t#### >> Sales By Age_group : Between 26-35 Years old people are giving more sales than others.\n",
    "\t#### >> Order Qty By State : Utterpradesh scoring highest order quantity.\n",
    "\t#### >> Top State By Sales : Karnataka State has done Highest Sales.\n",
    "\t#### >> Order Purchasing By Marital Status : Marreid peoples(Females) are purchasing more.\n",
    "\t#### >> Which Scetor is doing more Purchasing : IT Sector are the most one .\n",
    "\t#### >> Sales by Occupation :  IT Sector is in Top 1.\n",
    "\t#### >> Product Analysis :\n",
    "\t\t\t#### >> Most bought Product.\n",
    "\t\t\t#### >> Highest grossing product.\n",
    "\t\t\t#### >> Which Category is ddoing good sales ."
   ]
  },
  {
   "cell_type": "markdown",
   "id": "7501f837-3bf9-47fd-acb3-d64e053d9570",
   "metadata": {},
   "source": [
    "### Follow for more updates :>>>  https://www.linkedin.com/in/vivekvishwas/\n",
    "### Thank You :) !!!"
   ]
  },
  {
   "cell_type": "code",
   "execution_count": null,
   "id": "8a27d6a9-69b4-4fa6-938f-d6ac62382855",
   "metadata": {},
   "outputs": [],
   "source": []
  }
 ],
 "metadata": {
  "kernelspec": {
   "display_name": "Python 3 (ipykernel)",
   "language": "python",
   "name": "python3"
  },
  "language_info": {
   "codemirror_mode": {
    "name": "ipython",
    "version": 3
   },
   "file_extension": ".py",
   "mimetype": "text/x-python",
   "name": "python",
   "nbconvert_exporter": "python",
   "pygments_lexer": "ipython3",
   "version": "3.11.7"
  }
 },
 "nbformat": 4,
 "nbformat_minor": 5
}
